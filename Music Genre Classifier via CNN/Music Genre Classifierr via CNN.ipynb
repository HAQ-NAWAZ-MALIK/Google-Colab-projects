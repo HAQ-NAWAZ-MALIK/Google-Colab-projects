{
  "metadata": {
    "kernelspec": {
      "display_name": "Python 3",
      "language": "python",
      "name": "python3"
    },
    "language_info": {
      "name": "python",
      "version": "3.10.13",
      "mimetype": "text/x-python",
      "codemirror_mode": {
        "name": "ipython",
        "version": 3
      },
      "pygments_lexer": "ipython3",
      "nbconvert_exporter": "python",
      "file_extension": ".py"
    },
    "papermill": {
      "default_parameters": {},
      "duration": 251.673953,
      "end_time": "2021-07-12T12:10:39.530261",
      "environment_variables": {},
      "exception": null,
      "input_path": "__notebook__.ipynb",
      "output_path": "__notebook__.ipynb",
      "parameters": {},
      "start_time": "2021-07-12T12:06:27.856308",
      "version": "2.3.3"
    },
    "kaggle": {
      "accelerator": "none",
      "dataSources": [
        {
          "sourceId": 1032238,
          "sourceType": "datasetVersion",
          "datasetId": 568973
        }
      ],
      "isInternetEnabled": true,
      "language": "python",
      "sourceType": "notebook",
      "isGpuEnabled": false
    },
    "colab": {
      "name": "notebook322f9dc4b1",
      "provenance": []
    }
  },
  "nbformat_minor": 0,
  "nbformat": 4,
  "cells": [
    {
      "cell_type": "markdown",
      "source": [
        "#Music Genre Classifier via CNN\n",
        "\n"
      ],
      "metadata": {
        "id": "xsETXdJZ73qJ"
      }
    },
    {
      "source": [
        "\n",
        "import os\n",
        "import sys\n",
        "from tempfile import NamedTemporaryFile\n",
        "from urllib.request import urlopen\n",
        "from urllib.parse import unquote, urlparse\n",
        "from urllib.error import HTTPError\n",
        "from zipfile import ZipFile\n",
        "import tarfile\n",
        "import shutil\n",
        "\n",
        "CHUNK_SIZE = 40960\n",
        "DATA_SOURCE_MAPPING = 'gtzan-dataset-music-genre-classification:https%3A%2F%2Fstorage.googleapis.com%2Fkaggle-data-sets%2F568973%2F1032238%2Fbundle%2Farchive.zip%3FX-Goog-Algorithm%3DGOOG4-RSA-SHA256%26X-Goog-Credential%3Dgcp-kaggle-com%2540kaggle-161607.iam.gserviceaccount.com%252F20240604%252Fauto%252Fstorage%252Fgoog4_request%26X-Goog-Date%3D20240604T151532Z%26X-Goog-Expires%3D259200%26X-Goog-SignedHeaders%3Dhost%26X-Goog-Signature%3Da3b08733cbb6e35e3311f2977404918630c460197ce12156b972099f973ab8ca4d9efa72b181851536a8561fe1370775ffe719e8c0d8883839a3e3c77d66314075b6a36150a81fd09d74a0e4aa0d01a65abd0280035b8cf46ea1f598efc29e009689d528b1cd26905f394feb24f3962f98942b341b6f20156df7210cb0c62daf4b66ce734b278bc795a8fea8be1b99dc1edbc88ed120d812d3b5873616d7da430fb67cc135eea773b09360bae20124e589f1264bf504330dcbc790228926aeae5183fe2ee83de860509a58d9a0f9776107b9dfe6992602a1b963c5b889227f772eaf5f04be02a7dabc21bcbcc816ef237da1562d1910600ebb7044d323b98e4b'\n",
        "\n",
        "KAGGLE_INPUT_PATH='/kaggle/input'\n",
        "KAGGLE_WORKING_PATH='/kaggle/working'\n",
        "KAGGLE_SYMLINK='kaggle'\n",
        "\n",
        "!umount /kaggle/input/ 2> /dev/null\n",
        "shutil.rmtree('/kaggle/input', ignore_errors=True)\n",
        "os.makedirs(KAGGLE_INPUT_PATH, 0o777, exist_ok=True)\n",
        "os.makedirs(KAGGLE_WORKING_PATH, 0o777, exist_ok=True)\n",
        "\n",
        "try:\n",
        "  os.symlink(KAGGLE_INPUT_PATH, os.path.join(\"..\", 'input'), target_is_directory=True)\n",
        "except FileExistsError:\n",
        "  pass\n",
        "try:\n",
        "  os.symlink(KAGGLE_WORKING_PATH, os.path.join(\"..\", 'working'), target_is_directory=True)\n",
        "except FileExistsError:\n",
        "  pass\n",
        "\n",
        "for data_source_mapping in DATA_SOURCE_MAPPING.split(','):\n",
        "    directory, download_url_encoded = data_source_mapping.split(':')\n",
        "    download_url = unquote(download_url_encoded)\n",
        "    filename = urlparse(download_url).path\n",
        "    destination_path = os.path.join(KAGGLE_INPUT_PATH, directory)\n",
        "    try:\n",
        "        with urlopen(download_url) as fileres, NamedTemporaryFile() as tfile:\n",
        "            total_length = fileres.headers['content-length']\n",
        "            print(f'Downloading {directory}, {total_length} bytes compressed')\n",
        "            dl = 0\n",
        "            data = fileres.read(CHUNK_SIZE)\n",
        "            while len(data) > 0:\n",
        "                dl += len(data)\n",
        "                tfile.write(data)\n",
        "                done = int(50 * dl / int(total_length))\n",
        "                sys.stdout.write(f\"\\r[{'=' * done}{' ' * (50-done)}] {dl} bytes downloaded\")\n",
        "                sys.stdout.flush()\n",
        "                data = fileres.read(CHUNK_SIZE)\n",
        "            if filename.endswith('.zip'):\n",
        "              with ZipFile(tfile) as zfile:\n",
        "                zfile.extractall(destination_path)\n",
        "            else:\n",
        "              with tarfile.open(tfile.name) as tarfile:\n",
        "                tarfile.extractall(destination_path)\n",
        "            print(f'\\nDownloaded and uncompressed: {directory}')\n",
        "    except HTTPError as e:\n",
        "        print(f'Failed to load (likely expired) {download_url} to path {destination_path}')\n",
        "        continue\n",
        "    except OSError as e:\n",
        "        print(f'Failed to load {download_url} to path {destination_path}')\n",
        "        continue\n",
        "\n",
        "print('Data source import complete.')\n"
      ],
      "metadata": {
        "id": "PFEreKjn0fSV",
        "outputId": "4d69c771-55bd-48f5-fb81-bc0be6135088",
        "colab": {
          "base_uri": "https://localhost:8080/"
        }
      },
      "cell_type": "code",
      "outputs": [
        {
          "output_type": "stream",
          "name": "stdout",
          "text": [
            "Downloading gtzan-dataset-music-genre-classification, 1301492495 bytes compressed\n",
            "[==================================================] 1301492495 bytes downloaded\n",
            "Downloaded and uncompressed: gtzan-dataset-music-genre-classification\n",
            "Data source import complete.\n"
          ]
        }
      ],
      "execution_count": 1
    },
    {
      "cell_type": "markdown",
      "source": [
        "#The goal of this project is to categorize 30-second audio clips into different genres using TensorFlow and Librosa. To classify these .wav audio samples by genre, we will preprocess them by computing their Mel-Frequency Cepstral Coefficients (MFCCs). MFCCs provide a representation of how the energy varies over time for different perceived frequency bands. In this case, we will use 13 frequency bands. For better organization and readability, we will store the MFCCs and their corresponding genre labels in a separate JSON file, creating a dictionary-like data structure."
      ],
      "metadata": {
        "papermill": {
          "duration": 0.009039,
          "end_time": "2021-07-12T12:06:34.693058",
          "exception": false,
          "start_time": "2021-07-12T12:06:34.684019",
          "status": "completed"
        },
        "tags": [],
        "id": "WW6xf5Lt0fSZ"
      }
    },
    {
      "cell_type": "code",
      "source": [
        "!pip install -y ffmpeg"
      ],
      "metadata": {
        "execution": {
          "iopub.status.busy": "2024-06-03T06:39:41.56849Z",
          "iopub.execute_input": "2024-06-03T06:39:41.568933Z",
          "iopub.status.idle": "2024-06-03T06:39:43.333446Z",
          "shell.execute_reply.started": "2024-06-03T06:39:41.568874Z",
          "shell.execute_reply": "2024-06-03T06:39:43.331881Z"
        },
        "trusted": true,
        "id": "7GrnFNr20fSc",
        "outputId": "c6d4790e-e18e-4680-9ac8-990428a79203",
        "colab": {
          "base_uri": "https://localhost:8080/"
        }
      },
      "execution_count": 2,
      "outputs": [
        {
          "output_type": "stream",
          "name": "stdout",
          "text": [
            "\n",
            "Usage:   \n",
            "  pip3 install [options] <requirement specifier> [package-index-options] ...\n",
            "  pip3 install [options] -r <requirements file> [package-index-options] ...\n",
            "  pip3 install [options] [-e] <vcs project url> ...\n",
            "  pip3 install [options] [-e] <local project path> ...\n",
            "  pip3 install [options] <archive url/path> ...\n",
            "\n",
            "no such option: -y\n"
          ]
        }
      ]
    },
    {
      "cell_type": "code",
      "source": [
        "import numpy as np\n",
        "import pandas as pd\n",
        "import os\n",
        "import json\n",
        "import librosa\n",
        "import matplotlib.pyplot as plt\n",
        "from sklearn.model_selection import train_test_split\n",
        "import tensorflow as tf\n",
        "\n",
        "import os\n",
        "for dirname, _, filenames in os.walk('/kaggle/input'):\n",
        "    for filename in filenames:\n",
        "        #print(os.path.join(dirname, filename))\n",
        "        pass"
      ],
      "metadata": {
        "_cell_guid": "b1076dfc-b9ad-4769-8c92-a6c4dae69d19",
        "_uuid": "8f2839f25d086af736a60e9eeb907d3b93b6e0e5",
        "papermill": {
          "duration": 8.381519,
          "end_time": "2021-07-12T12:06:43.082816",
          "exception": false,
          "start_time": "2021-07-12T12:06:34.701297",
          "status": "completed"
        },
        "tags": [],
        "execution": {
          "iopub.status.busy": "2024-06-03T06:39:43.335782Z",
          "iopub.execute_input": "2024-06-03T06:39:43.336179Z",
          "iopub.status.idle": "2024-06-03T06:39:49.796142Z",
          "shell.execute_reply.started": "2024-06-03T06:39:43.336146Z",
          "shell.execute_reply": "2024-06-03T06:39:49.794307Z"
        },
        "trusted": true,
        "id": "2BQzf2dQ0fSd"
      },
      "execution_count": 3,
      "outputs": []
    },
    {
      "cell_type": "code",
      "source": [
        "# Dataset location\n",
        "SOURCE_PATH = '/kaggle/input/gtzan-dataset-music-genre-classification/Data/genres_original/'\n",
        "\n",
        "# Path to labels and processed data file, json format.\n",
        "JSON_PATH = '/kaggle/working/data.json'\n",
        "\n",
        "# Sampling rate.\n",
        "sr = 22050\n",
        "\n",
        "# Let's make sure all files have the same amount of samples and pick a duration right under 30 seconds.\n",
        "TOTAL_SAMPLES = 29 * sr\n",
        "\n",
        "# The dataset contains 999 files. Lets make it bigger.\n",
        "# X amount of slices => X times more training examples.\n",
        "NUM_SLICES = 10\n",
        "SAMPLES_PER_SLICE = int(TOTAL_SAMPLES / NUM_SLICES)"
      ],
      "metadata": {
        "papermill": {
          "duration": 0.018642,
          "end_time": "2021-07-12T12:06:43.113447",
          "exception": false,
          "start_time": "2021-07-12T12:06:43.094805",
          "status": "completed"
        },
        "tags": [],
        "execution": {
          "iopub.status.busy": "2024-06-03T06:39:49.798635Z",
          "iopub.execute_input": "2024-06-03T06:39:49.799703Z",
          "iopub.status.idle": "2024-06-03T06:39:49.809516Z",
          "shell.execute_reply.started": "2024-06-03T06:39:49.799646Z",
          "shell.execute_reply": "2024-06-03T06:39:49.807755Z"
        },
        "trusted": true,
        "id": "bGJnNBAT0fSe"
      },
      "execution_count": 4,
      "outputs": []
    },
    {
      "cell_type": "code",
      "source": [
        "def preprocess_data(source_path, json_path):\n",
        "\n",
        "    # Dictionary of labels and processed data.\n",
        "    mydict = {\n",
        "        \"labels\": [],\n",
        "        \"mfcc\": []\n",
        "        }\n",
        "\n",
        "    # Browse each file, slice it and generate the 13 band mfcc for each slice.\n",
        "    for i, (dirpath, dirnames, filenames) in enumerate(os.walk(source_path)):\n",
        "        for file in filenames:\n",
        "            # exclude a corrupted wav file that makes everything crash.\n",
        "            if os.path.join(dirpath, file) != '/kaggle/input/gtzan-dataset-music-genre-classification/Data/genres_original/jazz/jazz.00054.wav':\n",
        "                song, sr = librosa.load(os.path.join(dirpath, file), duration=29)\n",
        "                for s in range(NUM_SLICES):\n",
        "                    start_sample = SAMPLES_PER_SLICE * s\n",
        "                    end_sample = start_sample + SAMPLES_PER_SLICE\n",
        "                    mfcc = librosa.feature.mfcc(y=song[start_sample:end_sample], sr=sr, n_mfcc=13)\n",
        "                    mfcc = mfcc.T\n",
        "                    mydict[\"labels\"].append(i-1)\n",
        "                    mydict[\"mfcc\"].append(mfcc.tolist())\n",
        "            else:\n",
        "                pass\n",
        "\n",
        "    # Write the dictionary in a json file.\n",
        "    with open(json_path, 'w') as f:\n",
        "        json.dump(mydict, f)\n",
        "    f.close()"
      ],
      "metadata": {
        "papermill": {
          "duration": 0.022311,
          "end_time": "2021-07-12T12:06:43.146997",
          "exception": false,
          "start_time": "2021-07-12T12:06:43.124686",
          "status": "completed"
        },
        "tags": [],
        "execution": {
          "iopub.status.busy": "2024-06-03T06:39:49.812495Z",
          "iopub.execute_input": "2024-06-03T06:39:49.812973Z",
          "iopub.status.idle": "2024-06-03T06:39:49.82731Z",
          "shell.execute_reply.started": "2024-06-03T06:39:49.812938Z",
          "shell.execute_reply": "2024-06-03T06:39:49.825686Z"
        },
        "trusted": true,
        "id": "TuT8Lzo60fSf"
      },
      "execution_count": 5,
      "outputs": []
    },
    {
      "cell_type": "code",
      "source": [
        "def load_data(json_path):\n",
        "\n",
        "    with open(json_path, 'r') as f:\n",
        "        data = json.load(f)\n",
        "    f.close()\n",
        "\n",
        "    # Load our data into numpy arrays for TensorFlow compatibility.\n",
        "    X = np.array(data[\"mfcc\"])\n",
        "    y = np.array(data[\"labels\"])\n",
        "\n",
        "    return X, y"
      ],
      "metadata": {
        "papermill": {
          "duration": 0.017864,
          "end_time": "2021-07-12T12:06:43.176079",
          "exception": false,
          "start_time": "2021-07-12T12:06:43.158215",
          "status": "completed"
        },
        "tags": [],
        "execution": {
          "iopub.status.busy": "2024-06-03T06:39:49.829096Z",
          "iopub.execute_input": "2024-06-03T06:39:49.82974Z",
          "iopub.status.idle": "2024-06-03T06:39:49.845301Z",
          "shell.execute_reply.started": "2024-06-03T06:39:49.829577Z",
          "shell.execute_reply": "2024-06-03T06:39:49.844037Z"
        },
        "trusted": true,
        "id": "1-4ANC0c0fSf"
      },
      "execution_count": 6,
      "outputs": []
    },
    {
      "cell_type": "code",
      "source": [
        "def prepare_datasets(inputs, targets, split_size):\n",
        "\n",
        "    # Creating a validation set and a test set.\n",
        "    inputs_train, inputs_val, targets_train, targets_val = train_test_split(inputs, targets, test_size=split_size)\n",
        "    inputs_train, inputs_test, targets_train, targets_test = train_test_split(inputs_train, targets_train, test_size=split_size)\n",
        "\n",
        "    # Our CNN model expects 3D input shape.\n",
        "    inputs_train = inputs_train[..., np.newaxis]\n",
        "    inputs_val = inputs_val[..., np.newaxis]\n",
        "    inputs_test = inputs_test[..., np.newaxis]\n",
        "\n",
        "    return inputs_train, inputs_val, inputs_test, targets_train, targets_val, targets_test"
      ],
      "metadata": {
        "papermill": {
          "duration": 0.018297,
          "end_time": "2021-07-12T12:06:43.205455",
          "exception": false,
          "start_time": "2021-07-12T12:06:43.187158",
          "status": "completed"
        },
        "tags": [],
        "execution": {
          "iopub.status.busy": "2024-06-03T06:39:53.189379Z",
          "iopub.execute_input": "2024-06-03T06:39:53.189891Z",
          "iopub.status.idle": "2024-06-03T06:39:53.20037Z",
          "shell.execute_reply.started": "2024-06-03T06:39:53.189846Z",
          "shell.execute_reply": "2024-06-03T06:39:53.198946Z"
        },
        "trusted": true,
        "id": "iKz3vxxI0fSh"
      },
      "execution_count": 7,
      "outputs": []
    },
    {
      "cell_type": "code",
      "source": [
        "def design_model(input_shape):\n",
        "\n",
        "    # Let's design the model architecture.\n",
        "    model = tf.keras.models.Sequential([\n",
        "\n",
        "        tf.keras.layers.Conv2D(32, (3,3), activation='relu', input_shape=input_shape),\n",
        "        tf.keras.layers.MaxPooling2D((3,3), strides=(2,2), padding='same'),\n",
        "        tf.keras.layers.BatchNormalization(),\n",
        "\n",
        "        tf.keras.layers.Conv2D(32, (3,3), activation='relu'),\n",
        "        tf.keras.layers.MaxPooling2D((3,3), strides=(2,2), padding='same'),\n",
        "        tf.keras.layers.BatchNormalization(),\n",
        "\n",
        "        tf.keras.layers.Conv2D(32, (2,2), activation='relu'),\n",
        "        tf.keras.layers.MaxPooling2D((3,3), strides=(2,2), padding='same'),\n",
        "        tf.keras.layers.BatchNormalization(),\n",
        "        tf.keras.layers.Dropout(0.3),\n",
        "\n",
        "        tf.keras.layers.Flatten(),\n",
        "        tf.keras.layers.Dense(64, activation='relu'),\n",
        "        tf.keras.layers.Dense(len(np.unique(targets)), activation='softmax')\n",
        "    ])\n",
        "\n",
        "    return model"
      ],
      "metadata": {
        "papermill": {
          "duration": 0.021129,
          "end_time": "2021-07-12T12:06:43.238052",
          "exception": false,
          "start_time": "2021-07-12T12:06:43.216923",
          "status": "completed"
        },
        "tags": [],
        "execution": {
          "iopub.status.busy": "2024-06-03T06:39:53.498886Z",
          "iopub.execute_input": "2024-06-03T06:39:53.499373Z",
          "iopub.status.idle": "2024-06-03T06:39:53.511319Z",
          "shell.execute_reply.started": "2024-06-03T06:39:53.499341Z",
          "shell.execute_reply": "2024-06-03T06:39:53.509732Z"
        },
        "trusted": true,
        "id": "4tvty7Sb0fSh"
      },
      "execution_count": 8,
      "outputs": []
    },
    {
      "cell_type": "code",
      "source": [
        "def make_prediction(model, X, y, idx):\n",
        "\n",
        "    genre_dict = {\n",
        "        0 : \"blues\",\n",
        "        1 : \"classical\",\n",
        "        2 : \"country\",\n",
        "        3 : \"disco\",\n",
        "        4 : \"hiphop\",\n",
        "        5 : \"jazz\",\n",
        "        6 : \"metal\",\n",
        "        7 : \"pop\",\n",
        "        8 : \"reggae\",\n",
        "        9 : \"rock\",\n",
        "        }\n",
        "\n",
        "    predictions = model.predict(X)\n",
        "    genre = np.argmax(predictions[idx])\n",
        "\n",
        "    print(\"\\n---Now testing the model for one audio file---\\nThe model predicts: {}, and ground truth is: {}.\\n\".format(genre_dict[genre], genre_dict[y[idx]]))\n"
      ],
      "metadata": {
        "papermill": {
          "duration": 0.018494,
          "end_time": "2021-07-12T12:06:43.267656",
          "exception": false,
          "start_time": "2021-07-12T12:06:43.249162",
          "status": "completed"
        },
        "tags": [],
        "execution": {
          "iopub.status.busy": "2024-06-03T06:39:53.783812Z",
          "iopub.execute_input": "2024-06-03T06:39:53.784307Z",
          "iopub.status.idle": "2024-06-03T06:39:53.793811Z",
          "shell.execute_reply.started": "2024-06-03T06:39:53.78427Z",
          "shell.execute_reply": "2024-06-03T06:39:53.792335Z"
        },
        "trusted": true,
        "id": "KU3pEKRT0fSi"
      },
      "execution_count": 9,
      "outputs": []
    },
    {
      "cell_type": "code",
      "source": [
        "def plot_performance(hist):\n",
        "\n",
        "    acc = hist.history['acc']\n",
        "    val_acc = hist.history['val_acc']\n",
        "    loss = hist.history['loss']\n",
        "    val_loss = hist.history['val_loss']\n",
        "\n",
        "    epochs = range(len(acc))\n",
        "\n",
        "    plt.plot(epochs, acc, 'r', label='Training accuracy')\n",
        "    plt.plot(epochs, val_acc, 'b', label='Validation accuracy')\n",
        "    plt.title('Training and validation accuracy')\n",
        "    plt.legend()\n",
        "    plt.figure()\n",
        "\n",
        "    plt.plot(epochs, loss, 'r', label='Training Loss')\n",
        "    plt.plot(epochs, val_loss, 'b', label='Validation Loss')\n",
        "    plt.title('Training and validation loss')\n",
        "    plt.legend()\n",
        "\n",
        "    plt.show()"
      ],
      "metadata": {
        "papermill": {
          "duration": 0.019981,
          "end_time": "2021-07-12T12:06:43.29963",
          "exception": false,
          "start_time": "2021-07-12T12:06:43.279649",
          "status": "completed"
        },
        "tags": [],
        "execution": {
          "iopub.status.busy": "2024-06-03T06:39:54.078785Z",
          "iopub.execute_input": "2024-06-03T06:39:54.080081Z",
          "iopub.status.idle": "2024-06-03T06:39:54.090517Z",
          "shell.execute_reply.started": "2024-06-03T06:39:54.080028Z",
          "shell.execute_reply": "2024-06-03T06:39:54.089447Z"
        },
        "trusted": true,
        "id": "u6fuGvLd0fSj"
      },
      "execution_count": 10,
      "outputs": []
    },
    {
      "cell_type": "code",
      "source": [
        "preprocess_data(source_path=SOURCE_PATH, json_path=JSON_PATH)"
      ],
      "metadata": {
        "execution": {
          "iopub.status.busy": "2024-06-03T06:39:54.373703Z",
          "iopub.execute_input": "2024-06-03T06:39:54.374234Z",
          "iopub.status.idle": "2024-06-03T06:44:07.537843Z",
          "shell.execute_reply.started": "2024-06-03T06:39:54.374184Z",
          "shell.execute_reply": "2024-06-03T06:44:07.535434Z"
        },
        "trusted": true,
        "id": "AtLOEhYl0fSj"
      },
      "execution_count": 11,
      "outputs": []
    },
    {
      "cell_type": "code",
      "source": [
        "inputs, targets = load_data(json_path=JSON_PATH)"
      ],
      "metadata": {
        "execution": {
          "iopub.status.busy": "2024-06-03T06:44:07.542275Z",
          "iopub.execute_input": "2024-06-03T06:44:07.544258Z",
          "iopub.status.idle": "2024-06-03T06:44:22.833873Z",
          "shell.execute_reply.started": "2024-06-03T06:44:07.54421Z",
          "shell.execute_reply": "2024-06-03T06:44:22.832205Z"
        },
        "trusted": true,
        "id": "oJ6ZCG2F0fSk"
      },
      "execution_count": 12,
      "outputs": []
    },
    {
      "cell_type": "code",
      "source": [
        "Xtrain, Xval, Xtest, ytrain, yval, ytest = prepare_datasets(inputs, targets, 0.2)"
      ],
      "metadata": {
        "execution": {
          "iopub.status.busy": "2024-06-03T06:44:22.835478Z",
          "iopub.execute_input": "2024-06-03T06:44:22.835812Z",
          "iopub.status.idle": "2024-06-03T06:44:22.947727Z",
          "shell.execute_reply.started": "2024-06-03T06:44:22.835784Z",
          "shell.execute_reply": "2024-06-03T06:44:22.945846Z"
        },
        "trusted": true,
        "id": "SNONXeJp0fSk"
      },
      "execution_count": 13,
      "outputs": []
    },
    {
      "cell_type": "code",
      "source": [
        "input_shape = (Xtrain.shape[1], Xtrain.shape[2], 1)\n",
        "model = design_model(input_shape)"
      ],
      "metadata": {
        "execution": {
          "iopub.status.busy": "2024-06-03T06:44:22.951447Z",
          "iopub.execute_input": "2024-06-03T06:44:22.951816Z",
          "iopub.status.idle": "2024-06-03T06:44:23.133917Z",
          "shell.execute_reply.started": "2024-06-03T06:44:22.951783Z",
          "shell.execute_reply": "2024-06-03T06:44:23.132286Z"
        },
        "trusted": true,
        "id": "KAY9A0ge0fSk"
      },
      "execution_count": 14,
      "outputs": []
    },
    {
      "cell_type": "code",
      "source": [
        "model.compile(optimizer = tf.keras.optimizers.RMSprop(learning_rate=0.001),\n",
        "                     loss='sparse_categorical_crossentropy',\n",
        "                     metrics = ['acc']\n",
        "                     )"
      ],
      "metadata": {
        "execution": {
          "iopub.status.busy": "2024-06-03T06:44:23.136791Z",
          "iopub.execute_input": "2024-06-03T06:44:23.137197Z",
          "iopub.status.idle": "2024-06-03T06:44:23.15741Z",
          "shell.execute_reply.started": "2024-06-03T06:44:23.137164Z",
          "shell.execute_reply": "2024-06-03T06:44:23.155514Z"
        },
        "trusted": true,
        "id": "RVpr9L290fSl"
      },
      "execution_count": 15,
      "outputs": []
    },
    {
      "cell_type": "code",
      "source": [
        "model.summary()"
      ],
      "metadata": {
        "papermill": {
          "duration": 233.123049,
          "end_time": "2021-07-12T12:10:36.433973",
          "exception": false,
          "start_time": "2021-07-12T12:06:43.310924",
          "status": "completed"
        },
        "tags": [],
        "execution": {
          "iopub.status.busy": "2024-06-03T06:44:23.159256Z",
          "iopub.execute_input": "2024-06-03T06:44:23.15977Z",
          "iopub.status.idle": "2024-06-03T06:44:23.200994Z",
          "shell.execute_reply.started": "2024-06-03T06:44:23.159724Z",
          "shell.execute_reply": "2024-06-03T06:44:23.199809Z"
        },
        "trusted": true,
        "id": "RGkU0GXu0fSl",
        "outputId": "8687e2d3-24e5-4cda-9a7a-fdff4c43d3af",
        "colab": {
          "base_uri": "https://localhost:8080/"
        }
      },
      "execution_count": 16,
      "outputs": [
        {
          "output_type": "stream",
          "name": "stdout",
          "text": [
            "Model: \"sequential\"\n",
            "_________________________________________________________________\n",
            " Layer (type)                Output Shape              Param #   \n",
            "=================================================================\n",
            " conv2d (Conv2D)             (None, 123, 11, 32)       320       \n",
            "                                                                 \n",
            " max_pooling2d (MaxPooling2  (None, 62, 6, 32)         0         \n",
            " D)                                                              \n",
            "                                                                 \n",
            " batch_normalization (Batch  (None, 62, 6, 32)         128       \n",
            " Normalization)                                                  \n",
            "                                                                 \n",
            " conv2d_1 (Conv2D)           (None, 60, 4, 32)         9248      \n",
            "                                                                 \n",
            " max_pooling2d_1 (MaxPoolin  (None, 30, 2, 32)         0         \n",
            " g2D)                                                            \n",
            "                                                                 \n",
            " batch_normalization_1 (Bat  (None, 30, 2, 32)         128       \n",
            " chNormalization)                                                \n",
            "                                                                 \n",
            " conv2d_2 (Conv2D)           (None, 29, 1, 32)         4128      \n",
            "                                                                 \n",
            " max_pooling2d_2 (MaxPoolin  (None, 15, 1, 32)         0         \n",
            " g2D)                                                            \n",
            "                                                                 \n",
            " batch_normalization_2 (Bat  (None, 15, 1, 32)         128       \n",
            " chNormalization)                                                \n",
            "                                                                 \n",
            " dropout (Dropout)           (None, 15, 1, 32)         0         \n",
            "                                                                 \n",
            " flatten (Flatten)           (None, 480)               0         \n",
            "                                                                 \n",
            " dense (Dense)               (None, 64)                30784     \n",
            "                                                                 \n",
            " dense_1 (Dense)             (None, 10)                650       \n",
            "                                                                 \n",
            "=================================================================\n",
            "Total params: 45514 (177.79 KB)\n",
            "Trainable params: 45322 (177.04 KB)\n",
            "Non-trainable params: 192 (768.00 Byte)\n",
            "_________________________________________________________________\n"
          ]
        }
      ]
    },
    {
      "cell_type": "code",
      "source": [
        "#Training the model.\n",
        "history = model.fit(Xtrain, ytrain,\n",
        "                    validation_data=(Xval, yval),\n",
        "                    epochs=30,\n",
        "                    batch_size=32\n",
        "                    )"
      ],
      "metadata": {
        "execution": {
          "iopub.status.busy": "2024-06-03T06:44:23.20282Z",
          "iopub.execute_input": "2024-06-03T06:44:23.203224Z",
          "iopub.status.idle": "2024-06-03T06:48:30.996033Z",
          "shell.execute_reply.started": "2024-06-03T06:44:23.203192Z",
          "shell.execute_reply": "2024-06-03T06:48:30.994395Z"
        },
        "trusted": true,
        "id": "kWjfIHaj0fSl",
        "outputId": "cd6445dd-923d-4871-c7ad-a4a3d15dee38",
        "colab": {
          "base_uri": "https://localhost:8080/"
        }
      },
      "execution_count": 17,
      "outputs": [
        {
          "output_type": "stream",
          "name": "stdout",
          "text": [
            "Epoch 1/30\n",
            "200/200 [==============================] - 16s 74ms/step - loss: 1.5911 - acc: 0.4402 - val_loss: 1.3006 - val_acc: 0.5390\n",
            "Epoch 2/30\n",
            "200/200 [==============================] - 13s 65ms/step - loss: 1.1560 - acc: 0.5905 - val_loss: 1.1061 - val_acc: 0.6106\n",
            "Epoch 3/30\n",
            "200/200 [==============================] - 13s 63ms/step - loss: 0.9679 - acc: 0.6460 - val_loss: 0.9702 - val_acc: 0.6597\n",
            "Epoch 4/30\n",
            "200/200 [==============================] - 13s 66ms/step - loss: 0.8694 - acc: 0.6898 - val_loss: 1.0593 - val_acc: 0.6431\n",
            "Epoch 5/30\n",
            "200/200 [==============================] - 14s 72ms/step - loss: 0.7736 - acc: 0.7278 - val_loss: 0.8465 - val_acc: 0.7077\n",
            "Epoch 6/30\n",
            "200/200 [==============================] - 13s 63ms/step - loss: 0.7180 - acc: 0.7444 - val_loss: 0.7850 - val_acc: 0.7337\n",
            "Epoch 7/30\n",
            "200/200 [==============================] - 14s 68ms/step - loss: 0.6621 - acc: 0.7640 - val_loss: 0.9509 - val_acc: 0.6847\n",
            "Epoch 8/30\n",
            "200/200 [==============================] - 12s 61ms/step - loss: 0.5991 - acc: 0.7876 - val_loss: 0.8341 - val_acc: 0.7382\n",
            "Epoch 9/30\n",
            "200/200 [==============================] - 12s 57ms/step - loss: 0.5591 - acc: 0.8021 - val_loss: 0.7780 - val_acc: 0.7392\n",
            "Epoch 10/30\n",
            "200/200 [==============================] - 13s 63ms/step - loss: 0.5325 - acc: 0.8107 - val_loss: 0.6753 - val_acc: 0.7768\n",
            "Epoch 11/30\n",
            "200/200 [==============================] - 13s 66ms/step - loss: 0.4852 - acc: 0.8348 - val_loss: 0.9229 - val_acc: 0.7267\n",
            "Epoch 12/30\n",
            "200/200 [==============================] - 13s 65ms/step - loss: 0.4620 - acc: 0.8415 - val_loss: 0.8516 - val_acc: 0.7312\n",
            "Epoch 13/30\n",
            "200/200 [==============================] - 13s 63ms/step - loss: 0.4426 - acc: 0.8439 - val_loss: 0.8140 - val_acc: 0.7322\n",
            "Epoch 14/30\n",
            "200/200 [==============================] - 13s 66ms/step - loss: 0.4213 - acc: 0.8498 - val_loss: 0.7960 - val_acc: 0.7533\n",
            "Epoch 15/30\n",
            "200/200 [==============================] - 13s 63ms/step - loss: 0.4025 - acc: 0.8581 - val_loss: 0.6899 - val_acc: 0.7733\n",
            "Epoch 16/30\n",
            "200/200 [==============================] - 13s 66ms/step - loss: 0.3769 - acc: 0.8670 - val_loss: 0.7744 - val_acc: 0.7618\n",
            "Epoch 17/30\n",
            "200/200 [==============================] - 13s 64ms/step - loss: 0.3733 - acc: 0.8689 - val_loss: 0.8073 - val_acc: 0.7467\n",
            "Epoch 18/30\n",
            "200/200 [==============================] - 12s 61ms/step - loss: 0.3506 - acc: 0.8811 - val_loss: 0.8469 - val_acc: 0.7533\n",
            "Epoch 19/30\n",
            "200/200 [==============================] - 12s 60ms/step - loss: 0.3397 - acc: 0.8819 - val_loss: 0.7863 - val_acc: 0.7773\n",
            "Epoch 20/30\n",
            "200/200 [==============================] - 13s 63ms/step - loss: 0.3310 - acc: 0.8838 - val_loss: 0.8215 - val_acc: 0.7733\n",
            "Epoch 21/30\n",
            "200/200 [==============================] - 13s 64ms/step - loss: 0.3181 - acc: 0.8893 - val_loss: 0.7995 - val_acc: 0.7733\n",
            "Epoch 22/30\n",
            "200/200 [==============================] - 13s 67ms/step - loss: 0.3114 - acc: 0.8919 - val_loss: 0.7795 - val_acc: 0.7743\n",
            "Epoch 23/30\n",
            "200/200 [==============================] - 13s 67ms/step - loss: 0.3029 - acc: 0.8932 - val_loss: 0.7949 - val_acc: 0.7788\n",
            "Epoch 24/30\n",
            "200/200 [==============================] - 13s 65ms/step - loss: 0.2844 - acc: 0.8960 - val_loss: 0.9578 - val_acc: 0.7422\n",
            "Epoch 25/30\n",
            "200/200 [==============================] - 13s 64ms/step - loss: 0.2705 - acc: 0.9072 - val_loss: 0.9673 - val_acc: 0.7467\n",
            "Epoch 26/30\n",
            "200/200 [==============================] - 13s 66ms/step - loss: 0.2829 - acc: 0.9011 - val_loss: 0.8151 - val_acc: 0.7813\n",
            "Epoch 27/30\n",
            "200/200 [==============================] - 13s 63ms/step - loss: 0.2666 - acc: 0.9041 - val_loss: 0.7547 - val_acc: 0.7808\n",
            "Epoch 28/30\n",
            "200/200 [==============================] - 12s 62ms/step - loss: 0.2509 - acc: 0.9129 - val_loss: 1.0227 - val_acc: 0.7397\n",
            "Epoch 29/30\n",
            "200/200 [==============================] - 16s 79ms/step - loss: 0.2519 - acc: 0.9107 - val_loss: 0.7813 - val_acc: 0.7958\n",
            "Epoch 30/30\n",
            "200/200 [==============================] - 12s 62ms/step - loss: 0.2457 - acc: 0.9124 - val_loss: 0.8479 - val_acc: 0.7673\n"
          ]
        }
      ]
    },
    {
      "cell_type": "code",
      "source": [
        "plot_performance(history)"
      ],
      "metadata": {
        "execution": {
          "iopub.status.busy": "2024-06-03T06:48:30.998138Z",
          "iopub.execute_input": "2024-06-03T06:48:30.998518Z",
          "iopub.status.idle": "2024-06-03T06:48:31.714494Z",
          "shell.execute_reply.started": "2024-06-03T06:48:30.998481Z",
          "shell.execute_reply": "2024-06-03T06:48:31.713176Z"
        },
        "trusted": true,
        "id": "WIVYyAt30fSl",
        "outputId": "d7831742-6cc8-4695-a342-e9f3b6e4c5b7",
        "colab": {
          "base_uri": "https://localhost:8080/",
          "height": 887
        }
      },
      "execution_count": 18,
      "outputs": [
        {
          "output_type": "display_data",
          "data": {
            "text/plain": [
              "<Figure size 640x480 with 1 Axes>"
            ],
            "image/png": "[encoded data removed]"
          },
          "metadata": {}
        },
        {
          "output_type": "display_data",
          "data": {
            "text/plain": [
              "<Figure size 640x480 with 1 Axes>"
            ],
            "image/png": "[encoded data removed]"
          },
          "metadata": {}
        }
      ]
    },
    {
      "cell_type": "code",
      "source": [
        "def plot_history(hist):\n",
        "    plt.figure(figsize=(20,15))\n",
        "    fig, axs = plt.subplots(2)\n",
        "    # accuracy subplot\n",
        "    axs[0].plot(hist.history[\"acc\"], label=\"train accuracy\")\n",
        "    axs[0].plot(hist.history[\"val_acc\"], label=\"test accuracy\")\n",
        "    axs[0].set_ylabel(\"Accuracy\")\n",
        "    axs[0].legend(loc=\"lower right\")\n",
        "    axs[0].set_title(\"Accuracy eval\")\n",
        "\n",
        "    # Error subplot\n",
        "    axs[1].plot(hist.history[\"loss\"], label=\"train error\")\n",
        "    axs[1].plot(hist.history[\"val_loss\"], label=\"test error\")\n",
        "    axs[1].set_ylabel(\"Error\")\n",
        "    axs[1].set_xlabel(\"Epoch\")\n",
        "    axs[1].legend(loc=\"upper right\")\n",
        "    axs[1].set_title(\"Error eval\")\n",
        "\n",
        "    plt.show()"
      ],
      "metadata": {
        "execution": {
          "iopub.status.busy": "2024-06-03T06:48:31.716339Z",
          "iopub.execute_input": "2024-06-03T06:48:31.716733Z",
          "iopub.status.idle": "2024-06-03T06:48:31.726627Z",
          "shell.execute_reply.started": "2024-06-03T06:48:31.716701Z",
          "shell.execute_reply": "2024-06-03T06:48:31.725014Z"
        },
        "trusted": true,
        "id": "rDyYPfGn0fSl"
      },
      "execution_count": 19,
      "outputs": []
    },
    {
      "cell_type": "code",
      "source": [
        "make_prediction(model, Xtest, ytest, 24)"
      ],
      "metadata": {
        "execution": {
          "iopub.status.busy": "2024-06-03T06:48:32.266242Z",
          "iopub.execute_input": "2024-06-03T06:48:32.266699Z",
          "iopub.status.idle": "2024-06-03T06:48:33.633083Z",
          "shell.execute_reply.started": "2024-06-03T06:48:32.266656Z",
          "shell.execute_reply": "2024-06-03T06:48:33.631445Z"
        },
        "trusted": true,
        "id": "7R-6tNt30fSm",
        "outputId": "71f877d9-47bc-4b6a-ea75-5f6893057570",
        "colab": {
          "base_uri": "https://localhost:8080/"
        }
      },
      "execution_count": 21,
      "outputs": [
        {
          "output_type": "stream",
          "name": "stdout",
          "text": [
            "50/50 [==============================] - 1s 13ms/step\n",
            "\n",
            "---Now testing the model for one audio file---\n",
            "The model predicts: hiphop, and ground truth is: classical.\n",
            "\n"
          ]
        }
      ]
    },
    {
      "cell_type": "code",
      "source": [
        "import pickle\n",
        "\n",
        "# Save the model to a file\n",
        "with open('CNN.pkl', 'wb') as file:\n",
        "    pickle.dump(model, file)"
      ],
      "metadata": {
        "execution": {
          "iopub.status.busy": "2024-06-03T06:48:33.635819Z",
          "iopub.execute_input": "2024-06-03T06:48:33.636345Z",
          "iopub.status.idle": "2024-06-03T06:48:33.740718Z",
          "shell.execute_reply.started": "2024-06-03T06:48:33.636301Z",
          "shell.execute_reply": "2024-06-03T06:48:33.739043Z"
        },
        "trusted": true,
        "id": "figo8RsX0fSn"
      },
      "execution_count": 22,
      "outputs": []
    },
    {
      "cell_type": "code",
      "source": [
        "# Load the model from the file\n",
        "with open('CNN.pkl', 'rb') as file_new:\n",
        "    model_new = pickle.load(file_new)"
      ],
      "metadata": {
        "execution": {
          "iopub.status.busy": "2024-06-03T06:48:33.742806Z",
          "iopub.execute_input": "2024-06-03T06:48:33.743431Z",
          "iopub.status.idle": "2024-06-03T06:48:34.090418Z",
          "shell.execute_reply.started": "2024-06-03T06:48:33.743377Z",
          "shell.execute_reply": "2024-06-03T06:48:34.088735Z"
        },
        "trusted": true,
        "id": "zwJSSV4k0fSn"
      },
      "execution_count": 23,
      "outputs": []
    },
    {
      "cell_type": "code",
      "source": [
        "model_new.summary()"
      ],
      "metadata": {
        "execution": {
          "iopub.status.busy": "2024-06-03T06:48:34.093534Z",
          "iopub.execute_input": "2024-06-03T06:48:34.09462Z",
          "iopub.status.idle": "2024-06-03T06:48:34.14311Z",
          "shell.execute_reply.started": "2024-06-03T06:48:34.094561Z",
          "shell.execute_reply": "2024-06-03T06:48:34.141718Z"
        },
        "trusted": true,
        "id": "iAG95m8o0fSn",
        "outputId": "54d73d0c-51b2-4ef6-95e0-50d45f4798c8",
        "colab": {
          "base_uri": "https://localhost:8080/"
        }
      },
      "execution_count": 24,
      "outputs": [
        {
          "output_type": "stream",
          "name": "stdout",
          "text": [
            "Model: \"sequential\"\n",
            "_________________________________________________________________\n",
            " Layer (type)                Output Shape              Param #   \n",
            "=================================================================\n",
            " conv2d (Conv2D)             (None, 123, 11, 32)       320       \n",
            "                                                                 \n",
            " max_pooling2d (MaxPooling2  (None, 62, 6, 32)         0         \n",
            " D)                                                              \n",
            "                                                                 \n",
            " batch_normalization (Batch  (None, 62, 6, 32)         128       \n",
            " Normalization)                                                  \n",
            "                                                                 \n",
            " conv2d_1 (Conv2D)           (None, 60, 4, 32)         9248      \n",
            "                                                                 \n",
            " max_pooling2d_1 (MaxPoolin  (None, 30, 2, 32)         0         \n",
            " g2D)                                                            \n",
            "                                                                 \n",
            " batch_normalization_1 (Bat  (None, 30, 2, 32)         128       \n",
            " chNormalization)                                                \n",
            "                                                                 \n",
            " conv2d_2 (Conv2D)           (None, 29, 1, 32)         4128      \n",
            "                                                                 \n",
            " max_pooling2d_2 (MaxPoolin  (None, 15, 1, 32)         0         \n",
            " g2D)                                                            \n",
            "                                                                 \n",
            " batch_normalization_2 (Bat  (None, 15, 1, 32)         128       \n",
            " chNormalization)                                                \n",
            "                                                                 \n",
            " dropout (Dropout)           (None, 15, 1, 32)         0         \n",
            "                                                                 \n",
            " flatten (Flatten)           (None, 480)               0         \n",
            "                                                                 \n",
            " dense (Dense)               (None, 64)                30784     \n",
            "                                                                 \n",
            " dense_1 (Dense)             (None, 10)                650       \n",
            "                                                                 \n",
            "=================================================================\n",
            "Total params: 45514 (177.79 KB)\n",
            "Trainable params: 45322 (177.04 KB)\n",
            "Non-trainable params: 192 (768.00 Byte)\n",
            "_________________________________________________________________\n"
          ]
        }
      ]
    },
    {
      "cell_type": "code",
      "source": [
        "# Expected dimensions for the input\n",
        "expected_height = 123\n",
        "expected_width = 11\n",
        "\n",
        "# Function to preprocess audio file\n",
        "def preprocess_audio(file_path, sr=22050, duration=30, height=expected_height, width=expected_width):\n",
        "    # Load the audio file\n",
        "    audio, _ = librosa.load(file_path, sr=sr, duration=duration)\n",
        "\n",
        "    # Ensure audio is the expected duration\n",
        "    if len(audio) < sr * duration:\n",
        "        audio = np.pad(audio, (0, max(0, sr * duration - len(audio))), 'constant')\n",
        "\n",
        "    # Extract features (e.g., Mel spectrogram)\n",
        "    mel_spec = librosa.feature.melspectrogram(y=audio, sr=sr, n_mels=height, fmax=8000)\n",
        "    mel_spec_db = librosa.power_to_db(mel_spec, ref=np.max)\n",
        "\n",
        "    # Reshape for resizing\n",
        "    mel_spec_db = mel_spec_db[..., np.newaxis]  # Add channel dimension\n",
        "    mel_spec_db = tf.image.resize(mel_spec_db, (height, width)).numpy()\n",
        "\n",
        "    # Reshape for the model input\n",
        "    mel_spec_db = mel_spec_db[np.newaxis, ..., np.newaxis]  # Add batch and channel dimensions\n",
        "    return mel_spec_db"
      ],
      "metadata": {
        "execution": {
          "iopub.status.busy": "2024-06-03T06:48:34.144706Z",
          "iopub.execute_input": "2024-06-03T06:48:34.145208Z",
          "iopub.status.idle": "2024-06-03T06:48:34.158127Z",
          "shell.execute_reply.started": "2024-06-03T06:48:34.145168Z",
          "shell.execute_reply": "2024-06-03T06:48:34.156447Z"
        },
        "trusted": true,
        "id": "XZYDzAJv0fSn"
      },
      "execution_count": 25,
      "outputs": []
    },
    {
      "cell_type": "code",
      "source": [
        "new_file = '/kaggle/input/gtzan-dataset-music-genre-classification/Data/genres_original/jazz/jazz.00002.wav'\n",
        "audio_data = preprocess_audio(new_file)"
      ],
      "metadata": {
        "execution": {
          "iopub.status.busy": "2024-06-03T06:48:34.1602Z",
          "iopub.execute_input": "2024-06-03T06:48:34.160681Z",
          "iopub.status.idle": "2024-06-03T06:48:34.283302Z",
          "shell.execute_reply.started": "2024-06-03T06:48:34.160631Z",
          "shell.execute_reply": "2024-06-03T06:48:34.281283Z"
        },
        "trusted": true,
        "id": "stV9M7GM0fSo"
      },
      "execution_count": 29,
      "outputs": []
    },
    {
      "cell_type": "markdown",
      "source": [],
      "metadata": {
        "id": "bHBf7pkA6Txq"
      }
    },
    {
      "cell_type": "code",
      "source": [
        "# Retrieve training and validation accuracy\n",
        "train_accuracy = history.history['acc'][-1]  # Last epoch accuracy\n",
        "test_accuracy = history.history['val_acc'][-1]  # Last epoch validation accuracy\n",
        "\n",
        "# Print accuracies\n",
        "print('Training accuracy:', train_accuracy)\n",
        "print('Test accuracy:', test_accuracy)\n",
        "plot_history(history)"
      ],
      "metadata": {
        "execution": {
          "iopub.status.busy": "2024-06-03T06:48:31.730739Z",
          "iopub.execute_input": "2024-06-03T06:48:31.731446Z",
          "iopub.status.idle": "2024-06-03T06:48:32.264773Z",
          "shell.execute_reply.started": "2024-06-03T06:48:31.73141Z",
          "shell.execute_reply": "2024-06-03T06:48:32.263439Z"
        },
        "trusted": true,
        "id": "KON9kSch0fSm",
        "outputId": "f0b44d09-897f-450d-8c96-409a08977435",
        "colab": {
          "base_uri": "https://localhost:8080/",
          "height": 524
        }
      },
      "execution_count": 20,
      "outputs": [
        {
          "output_type": "stream",
          "name": "stdout",
          "text": [
            "Training accuracy: 0.9124041795730591\n",
            "Test accuracy: 0.7672672867774963\n"
          ]
        },
        {
          "output_type": "display_data",
          "data": {
            "text/plain": [
              "<Figure size 2000x1500 with 0 Axes>"
            ]
          },
          "metadata": {}
        },
        {
          "output_type": "display_data",
          "data": {
            "text/plain": [
              "<Figure size 640x480 with 2 Axes>"
            ],
            "image/png": "[encoded data removed]"
          },
          "metadata": {}
        }
      ]
    }
  ]
}